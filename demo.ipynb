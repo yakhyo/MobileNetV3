{
 "cells": [
  {
   "cell_type": "code",
   "execution_count": 1,
   "id": "7e6d1aea-40d1-4752-aae7-11ed8c8a508b",
   "metadata": {},
   "outputs": [],
   "source": [
    "import torch\n",
    "\n",
    "from torchvision.models import mobilenet_v3_large, mobilenet_v3_small, MobileNet_V3_Large_Weights, MobileNet_V3_Small_Weights\n",
    "from torchvision import transforms\n",
    "\n",
    "from PIL import Image\n",
    "from nets.nn import mobilenet_v3_large as m3l\n",
    "from nets.nn import mobilenet_v3_small as m3s\n",
    "from assets.meta import IMAGENET_CATEGORIES"
   ]
  },
  {
   "cell_type": "code",
   "execution_count": 2,
   "id": "8cdcf220-cb2d-42d3-86c7-7f0a715493ac",
   "metadata": {},
   "outputs": [],
   "source": [
    "mobilenet_v3_l = mobilenet_v3_large(weights=MobileNet_V3_Large_Weights.IMAGENET1K_V1)\n",
    "mobilenet_v3_s = mobilenet_v3_small(weights=MobileNet_V3_Small_Weights.IMAGENET1K_V1)"
   ]
  },
  {
   "cell_type": "code",
   "execution_count": 3,
   "id": "8728e7a2-a32f-4765-9a80-ff83804acc98",
   "metadata": {},
   "outputs": [
    {
     "data": {
      "text/plain": [
       "5483032"
      ]
     },
     "execution_count": 3,
     "metadata": {},
     "output_type": "execute_result"
    }
   ],
   "source": [
    "x = lambda model: sum(p.numel() for p in model.parameters() if p.requires_grad)\n",
    "x(mobilenet_v3_l)"
   ]
  },
  {
   "cell_type": "code",
   "execution_count": 4,
   "id": "388d8b68-8078-44d0-8db7-f6213cf143a2",
   "metadata": {},
   "outputs": [
    {
     "data": {
      "text/plain": [
       "2542856"
      ]
     },
     "execution_count": 4,
     "metadata": {},
     "output_type": "execute_result"
    }
   ],
   "source": [
    "x(mobilenet_v3_s)"
   ]
  },
  {
   "cell_type": "code",
   "execution_count": 5,
   "id": "8ff37c5e-76bd-4f50-8288-8dcfeadbe262",
   "metadata": {},
   "outputs": [],
   "source": [
    "def preprocess_image(image_path):\n",
    "    transform = transforms.Compose([\n",
    "        transforms.Resize((224, 224)),  # Resize the image to match the model's input size\n",
    "        transforms.ToTensor(),  # Convert the image to a PyTorch tensor\n",
    "        transforms.Normalize(\n",
    "            mean=[0.485, 0.456, 0.406],  # Normalize the image using the mean and std of ImageNet\n",
    "            std=[0.229, 0.224, 0.225]\n",
    "        ),\n",
    "    ])\n",
    "\n",
    "    image = Image.open(image_path)\n",
    "    image = transform(image).unsqueeze(0)  # Add a batch dimension\n",
    "    return image"
   ]
  },
  {
   "cell_type": "code",
   "execution_count": 6,
   "id": "fbf325f2-21f3-4aec-9c6c-052f810d4755",
   "metadata": {},
   "outputs": [],
   "source": [
    "def inference(model, image_path):\n",
    "    model.eval()\n",
    "\n",
    "    input_image = preprocess_image(image_path)\n",
    "    with torch.no_grad():\n",
    "        output = model(input_image)\n",
    "\n",
    "    _, predicted_class = output.max(1)\n",
    "    print(f\"Predicted class index: {predicted_class.item()}\")\n",
    "\n",
    "    predicted_label = IMAGENET_CATEGORIES[predicted_class.item()]\n",
    "    print(f\"Predicted class label: {predicted_label}\")"
   ]
  },
  {
   "cell_type": "code",
   "execution_count": 7,
   "id": "ad20dd28-473f-4715-81f1-a2591a4ab5c9",
   "metadata": {},
   "outputs": [
    {
     "name": "stdout",
     "output_type": "stream",
     "text": [
      "Predicted class index: 281\n",
      "Predicted class label: tabby\n"
     ]
    }
   ],
   "source": [
    "inference(mobilenet_v3_s, \"assets/tabby_cat.jpg\")"
   ]
  },
  {
   "cell_type": "code",
   "execution_count": 8,
   "id": "30f88688-bc3c-4d33-af6e-b5ba2d6361a9",
   "metadata": {},
   "outputs": [
    {
     "data": {
      "text/plain": [
       "<All keys matched successfully>"
      ]
     },
     "execution_count": 8,
     "metadata": {},
     "output_type": "execute_result"
    }
   ],
   "source": [
    "local_m3l = m3l()\n",
    "local_m3l.load_state_dict(mobilenet_v3_l.state_dict())"
   ]
  },
  {
   "cell_type": "code",
   "execution_count": 9,
   "id": "b9a5b225-2e54-4ac5-a4f2-dbb4fe8e6a4c",
   "metadata": {},
   "outputs": [
    {
     "name": "stdout",
     "output_type": "stream",
     "text": [
      "Predicted class index: 281\n",
      "Predicted class label: tabby\n"
     ]
    }
   ],
   "source": [
    "inference(local_m3l, \"assets/tabby_cat.jpg\")"
   ]
  },
  {
   "cell_type": "code",
   "execution_count": 10,
   "id": "8c54a37d-1d4c-4fb9-9bb2-91589ca044a0",
   "metadata": {},
   "outputs": [
    {
     "data": {
      "text/plain": [
       "5483032"
      ]
     },
     "execution_count": 10,
     "metadata": {},
     "output_type": "execute_result"
    }
   ],
   "source": [
    "x(local_m3l)"
   ]
  },
  {
   "cell_type": "code",
   "execution_count": 11,
   "id": "9fe34419-611c-4b96-875f-48b55f43c1e3",
   "metadata": {},
   "outputs": [
    {
     "data": {
      "text/plain": [
       "<All keys matched successfully>"
      ]
     },
     "execution_count": 11,
     "metadata": {},
     "output_type": "execute_result"
    }
   ],
   "source": [
    "local_m3s = m3s()\n",
    "local_m3s.load_state_dict(mobilenet_v3_s.state_dict())"
   ]
  },
  {
   "cell_type": "code",
   "execution_count": 12,
   "id": "d3e7e6b9-b350-4b69-b5de-2494640e187d",
   "metadata": {},
   "outputs": [
    {
     "name": "stdout",
     "output_type": "stream",
     "text": [
      "Predicted class index: 281\n",
      "Predicted class label: tabby\n"
     ]
    }
   ],
   "source": [
    "inference(local_m3s, \"assets/tabby_cat.jpg\")"
   ]
  },
  {
   "cell_type": "code",
   "execution_count": 13,
   "id": "7f1834a8-703f-4e90-96da-c47bbb2fdcab",
   "metadata": {},
   "outputs": [],
   "source": [
    "torch.save(local_m3s.half().state_dict(), \"./weights/mobilenet_v3_small_half.pt\")\n",
    "torch.save(local_m3l.half().state_dict(), \"./weights/mobilenet_v3_large_half.pt\")\n"
   ]
  },
  {
   "cell_type": "code",
   "execution_count": null,
   "id": "b7a562db-08c6-4310-82d5-32c3d5ae4c42",
   "metadata": {},
   "outputs": [],
   "source": []
  }
 ],
 "metadata": {
  "kernelspec": {
   "display_name": "Python 3 (ipykernel)",
   "language": "python",
   "name": "python3"
  },
  "language_info": {
   "codemirror_mode": {
    "name": "ipython",
    "version": 3
   },
   "file_extension": ".py",
   "mimetype": "text/x-python",
   "name": "python",
   "nbconvert_exporter": "python",
   "pygments_lexer": "ipython3",
   "version": "3.10.10"
  }
 },
 "nbformat": 4,
 "nbformat_minor": 5
}
